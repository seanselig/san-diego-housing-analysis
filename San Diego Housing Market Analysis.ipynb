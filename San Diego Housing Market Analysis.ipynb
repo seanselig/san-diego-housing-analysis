{
 "cells": [
  {
   "cell_type": "code",
   "execution_count": 14,
   "id": "ef3b814b-a46e-44d7-b291-e475996e92f2",
   "metadata": {},
   "outputs": [],
   "source": [
    "import pandas as pd"
   ]
  },
  {
   "cell_type": "code",
   "execution_count": 15,
   "id": "236f7511-6b34-4965-9e99-783ae79b1350",
   "metadata": {},
   "outputs": [],
   "source": [
    "import matplotlib.pyplot as plt"
   ]
  },
  {
   "cell_type": "code",
   "execution_count": 16,
   "id": "1417bd8d-a86a-4300-adac-23138dd32400",
   "metadata": {},
   "outputs": [],
   "source": [
    "import seaborn as sns"
   ]
  },
  {
   "cell_type": "markdown",
   "id": "a2b92752-86b3-4c97-a952-9199d64f72d8",
   "metadata": {},
   "source": [
    "Setting Style:"
   ]
  },
  {
   "cell_type": "code",
   "execution_count": 17,
   "id": "21590c2a-90ae-4b55-ab03-07797f4a4fed",
   "metadata": {},
   "outputs": [],
   "source": [
    "sns.set_style(\"whitegrid\")\n",
    "plt.rcParams['figure.figsize'] = (10, 6)\n",
    "plt.rcParams['font.sans-serif'] = ['Arial']"
   ]
  },
  {
   "cell_type": "markdown",
   "id": "5c6aab1c-7bb6-4b06-9bac-8c1c6c092856",
   "metadata": {},
   "source": [
    "Initial Data Loading and Inspection:"
   ]
  },
  {
   "cell_type": "code",
   "execution_count": 20,
   "id": "371a2f3f-9c09-4e8c-9a0c-da19676fa432",
   "metadata": {},
   "outputs": [],
   "source": [
    "df_housing = pd.read_csv('city_market_tracker.tsv', sep='\\t')"
   ]
  },
  {
   "cell_type": "code",
   "execution_count": 21,
   "id": "bf099450-42b9-46db-b83b-18b1693132c4",
   "metadata": {},
   "outputs": [
    {
     "name": "stdout",
     "output_type": "stream",
     "text": [
      "  PERIOD_BEGIN  PERIOD_END  PERIOD_DURATION REGION_TYPE  REGION_TYPE_ID  \\\n",
      "0   2015-10-01  2015-10-31               30       place               6   \n",
      "1   2014-04-01  2014-04-30               30       place               6   \n",
      "2   2017-10-01  2017-10-31               30       place               6   \n",
      "3   2024-07-01  2024-07-31               30       place               6   \n",
      "4   2022-01-01  2022-01-31               30       place               6   \n",
      "\n",
      "   TABLE_ID  IS_SEASONALLY_ADJUSTED            REGION          CITY  \\\n",
      "0      8591                   False  Indian Trail, NC  Indian Trail   \n",
      "1      8225                   False   Hainesville, IL   Hainesville   \n",
      "2     10716                   False     Maysville, NC     Maysville   \n",
      "3      3140                   False      Chewelah, WA      Chewelah   \n",
      "4     11322                   False       Lombard, IL       Lombard   \n",
      "\n",
      "            STATE  ... SOLD_ABOVE_LIST_YOY PRICE_DROPS  PRICE_DROPS_MOM  \\\n",
      "0  North Carolina  ...            0.038406    0.224066        -0.011228   \n",
      "1        Illinois  ...            0.500000    0.333333         0.166667   \n",
      "2  North Carolina  ...            0.500000         NaN              NaN   \n",
      "3      Washington  ...            0.000000    0.250000        -0.057692   \n",
      "4        Illinois  ...           -0.018092    0.134615        -0.028175   \n",
      "\n",
      "   PRICE_DROPS_YOY  OFF_MARKET_IN_TWO_WEEKS  OFF_MARKET_IN_TWO_WEEKS_MOM  \\\n",
      "0         0.023309                 0.291667                    -0.084804   \n",
      "1              NaN                      NaN                          NaN   \n",
      "2              NaN                 0.000000                     0.000000   \n",
      "3        -0.659091                 0.500000                    -0.166667   \n",
      "4        -0.280019                 0.241379                    -0.175287   \n",
      "\n",
      "   OFF_MARKET_IN_TWO_WEEKS_YOY  PARENT_METRO_REGION  \\\n",
      "0                     0.034524        Charlotte, NC   \n",
      "1                          NaN      Lake County, IL   \n",
      "2                     0.000000         New Bern, NC   \n",
      "3                     0.277778          Spokane, WA   \n",
      "4                    -0.136398          Chicago, IL   \n",
      "\n",
      "   PARENT_METRO_REGION_METRO_CODE               LAST_UPDATED  \n",
      "0                           16740  2025-04-18 14:40:47.550 Z  \n",
      "1                           29404  2025-04-18 14:40:47.550 Z  \n",
      "2                           35100  2025-04-18 14:40:47.550 Z  \n",
      "3                           44060  2025-04-18 14:40:47.550 Z  \n",
      "4                           16984  2025-04-18 14:40:47.550 Z  \n",
      "\n",
      "[5 rows x 58 columns]\n"
     ]
    }
   ],
   "source": [
    "print(df_housing.head())"
   ]
  },
  {
   "cell_type": "code",
   "execution_count": 22,
   "id": "95426d34-1cc6-40f8-a1e6-81a5531cd0c9",
   "metadata": {},
   "outputs": [
    {
     "name": "stdout",
     "output_type": "stream",
     "text": [
      "<class 'pandas.core.frame.DataFrame'>\n",
      "RangeIndex: 5818731 entries, 0 to 5818730\n",
      "Data columns (total 58 columns):\n",
      " #   Column                          Dtype  \n",
      "---  ------                          -----  \n",
      " 0   PERIOD_BEGIN                    object \n",
      " 1   PERIOD_END                      object \n",
      " 2   PERIOD_DURATION                 int64  \n",
      " 3   REGION_TYPE                     object \n",
      " 4   REGION_TYPE_ID                  int64  \n",
      " 5   TABLE_ID                        int64  \n",
      " 6   IS_SEASONALLY_ADJUSTED          bool   \n",
      " 7   REGION                          object \n",
      " 8   CITY                            object \n",
      " 9   STATE                           object \n",
      " 10  STATE_CODE                      object \n",
      " 11  PROPERTY_TYPE                   object \n",
      " 12  PROPERTY_TYPE_ID                int64  \n",
      " 13  MEDIAN_SALE_PRICE               float64\n",
      " 14  MEDIAN_SALE_PRICE_MOM           float64\n",
      " 15  MEDIAN_SALE_PRICE_YOY           float64\n",
      " 16  MEDIAN_LIST_PRICE               float64\n",
      " 17  MEDIAN_LIST_PRICE_MOM           float64\n",
      " 18  MEDIAN_LIST_PRICE_YOY           float64\n",
      " 19  MEDIAN_PPSF                     float64\n",
      " 20  MEDIAN_PPSF_MOM                 float64\n",
      " 21  MEDIAN_PPSF_YOY                 float64\n",
      " 22  MEDIAN_LIST_PPSF                float64\n",
      " 23  MEDIAN_LIST_PPSF_MOM            float64\n",
      " 24  MEDIAN_LIST_PPSF_YOY            float64\n",
      " 25  HOMES_SOLD                      float64\n",
      " 26  HOMES_SOLD_MOM                  float64\n",
      " 27  HOMES_SOLD_YOY                  float64\n",
      " 28  PENDING_SALES                   float64\n",
      " 29  PENDING_SALES_MOM               float64\n",
      " 30  PENDING_SALES_YOY               float64\n",
      " 31  NEW_LISTINGS                    float64\n",
      " 32  NEW_LISTINGS_MOM                float64\n",
      " 33  NEW_LISTINGS_YOY                float64\n",
      " 34  INVENTORY                       float64\n",
      " 35  INVENTORY_MOM                   float64\n",
      " 36  INVENTORY_YOY                   float64\n",
      " 37  MONTHS_OF_SUPPLY                float64\n",
      " 38  MONTHS_OF_SUPPLY_MOM            float64\n",
      " 39  MONTHS_OF_SUPPLY_YOY            float64\n",
      " 40  MEDIAN_DOM                      float64\n",
      " 41  MEDIAN_DOM_MOM                  float64\n",
      " 42  MEDIAN_DOM_YOY                  float64\n",
      " 43  AVG_SALE_TO_LIST                float64\n",
      " 44  AVG_SALE_TO_LIST_MOM            float64\n",
      " 45  AVG_SALE_TO_LIST_YOY            float64\n",
      " 46  SOLD_ABOVE_LIST                 float64\n",
      " 47  SOLD_ABOVE_LIST_MOM             float64\n",
      " 48  SOLD_ABOVE_LIST_YOY             float64\n",
      " 49  PRICE_DROPS                     float64\n",
      " 50  PRICE_DROPS_MOM                 float64\n",
      " 51  PRICE_DROPS_YOY                 float64\n",
      " 52  OFF_MARKET_IN_TWO_WEEKS         float64\n",
      " 53  OFF_MARKET_IN_TWO_WEEKS_MOM     float64\n",
      " 54  OFF_MARKET_IN_TWO_WEEKS_YOY     float64\n",
      " 55  PARENT_METRO_REGION             object \n",
      " 56  PARENT_METRO_REGION_METRO_CODE  int64  \n",
      " 57  LAST_UPDATED                    object \n",
      "dtypes: bool(1), float64(42), int64(5), object(10)\n",
      "memory usage: 2.5+ GB\n",
      "None\n"
     ]
    }
   ],
   "source": [
    "print(df_housing.info())"
   ]
  },
  {
   "cell_type": "markdown",
   "id": "287e9f1a-a5a1-4b06-9e1c-6e7f36d77849",
   "metadata": {},
   "source": [
    "Looking for missing values:"
   ]
  },
  {
   "cell_type": "code",
   "execution_count": 23,
   "id": "4b2e048e-4efe-459a-89b9-f8e6d28bb8fa",
   "metadata": {},
   "outputs": [
    {
     "name": "stdout",
     "output_type": "stream",
     "text": [
      "PERIOD_BEGIN                            0\n",
      "PERIOD_END                              0\n",
      "PERIOD_DURATION                         0\n",
      "REGION_TYPE                             0\n",
      "REGION_TYPE_ID                          0\n",
      "TABLE_ID                                0\n",
      "IS_SEASONALLY_ADJUSTED                  0\n",
      "REGION                                  0\n",
      "CITY                                    0\n",
      "STATE                                   0\n",
      "STATE_CODE                              0\n",
      "PROPERTY_TYPE                           0\n",
      "PROPERTY_TYPE_ID                        0\n",
      "MEDIAN_SALE_PRICE                    6582\n",
      "MEDIAN_SALE_PRICE_MOM             1102021\n",
      "MEDIAN_SALE_PRICE_YOY             1203523\n",
      "MEDIAN_LIST_PRICE                  960301\n",
      "MEDIAN_LIST_PRICE_MOM             1738535\n",
      "MEDIAN_LIST_PRICE_YOY             1844692\n",
      "MEDIAN_PPSF                         78734\n",
      "MEDIAN_PPSF_MOM                   1164124\n",
      "MEDIAN_PPSF_YOY                   1266240\n",
      "MEDIAN_LIST_PPSF                   982804\n",
      "MEDIAN_LIST_PPSF_MOM              1760913\n",
      "MEDIAN_LIST_PPSF_YOY              1867600\n",
      "HOMES_SOLD                           6132\n",
      "HOMES_SOLD_MOM                    1101609\n",
      "HOMES_SOLD_YOY                    1203086\n",
      "PENDING_SALES                      605879\n",
      "PENDING_SALES_MOM                 1523746\n",
      "PENDING_SALES_YOY                 1646817\n",
      "NEW_LISTINGS                       980661\n",
      "NEW_LISTINGS_MOM                  1756710\n",
      "NEW_LISTINGS_YOY                  1866894\n",
      "INVENTORY                          470919\n",
      "INVENTORY_MOM                     1328624\n",
      "INVENTORY_YOY                     1473224\n",
      "MONTHS_OF_SUPPLY                   390459\n",
      "MONTHS_OF_SUPPLY_MOM              1262066\n",
      "MONTHS_OF_SUPPLY_YOY              1397808\n",
      "MEDIAN_DOM                          73515\n",
      "MEDIAN_DOM_MOM                    1166784\n",
      "MEDIAN_DOM_YOY                    1272591\n",
      "AVG_SALE_TO_LIST                   203820\n",
      "AVG_SALE_TO_LIST_MOM              1255062\n",
      "AVG_SALE_TO_LIST_YOY              1350730\n",
      "SOLD_ABOVE_LIST                     39180\n",
      "SOLD_ABOVE_LIST_MOM               1127888\n",
      "SOLD_ABOVE_LIST_YOY               1229737\n",
      "PRICE_DROPS                       2722159\n",
      "PRICE_DROPS_MOM                   3260419\n",
      "PRICE_DROPS_YOY                   3487341\n",
      "OFF_MARKET_IN_TWO_WEEKS            483681\n",
      "OFF_MARKET_IN_TWO_WEEKS_MOM       1419771\n",
      "OFF_MARKET_IN_TWO_WEEKS_YOY       1550033\n",
      "PARENT_METRO_REGION                     0\n",
      "PARENT_METRO_REGION_METRO_CODE          0\n",
      "LAST_UPDATED                            0\n",
      "dtype: int64\n"
     ]
    }
   ],
   "source": [
    "print(df_housing.isnull().sum())"
   ]
  },
  {
   "cell_type": "markdown",
   "id": "75e16e5f-85a1-4479-a86d-ec509d05039f",
   "metadata": {},
   "source": [
    "Converting to lowercase string for easier filtering:"
   ]
  },
  {
   "cell_type": "code",
   "execution_count": 24,
   "id": "046b38ea-8906-4928-b938-49567d997f3b",
   "metadata": {},
   "outputs": [],
   "source": [
    "df_housing['PARENT_METRO_REGION'] = df_housing['PARENT_METRO_REGION'].astype(str).str.lower()"
   ]
  },
  {
   "cell_type": "code",
   "execution_count": 25,
   "id": "29ae95a5-bbe1-45cf-ba30-789436d38245",
   "metadata": {},
   "outputs": [],
   "source": [
    "df_housing['STATE'] = df_housing['STATE'].astype(str).str.lower()"
   ]
  },
  {
   "cell_type": "markdown",
   "id": "c493d8f9-42a6-4869-ab21-7b5a794afe58",
   "metadata": {},
   "source": [
    "Filtering Dataset for San Diego only:"
   ]
  },
  {
   "cell_type": "code",
   "execution_count": 30,
   "id": "2724574c-9104-4dc8-96ce-7498f70ec652",
   "metadata": {
    "scrolled": true
   },
   "outputs": [],
   "source": [
    "df_san_diego = df_housing[(df_housing['PARENT_METRO_REGION'] == 'san diego, ca') & (df_housing['STATE'] == 'california')].copy()"
   ]
  },
  {
   "cell_type": "markdown",
   "id": "34516b4c-632d-4b6e-bff1-565236ec1a03",
   "metadata": {},
   "source": [
    "Looking for missing values in the San Diego filtered data:"
   ]
  },
  {
   "cell_type": "code",
   "execution_count": 31,
   "id": "df248c99-9816-42ac-a4aa-bffc75e80947",
   "metadata": {},
   "outputs": [
    {
     "name": "stdout",
     "output_type": "stream",
     "text": [
      "PERIOD_BEGIN                         0\n",
      "PERIOD_END                           0\n",
      "PERIOD_DURATION                      0\n",
      "REGION_TYPE                          0\n",
      "REGION_TYPE_ID                       0\n",
      "TABLE_ID                             0\n",
      "IS_SEASONALLY_ADJUSTED               0\n",
      "REGION                               0\n",
      "CITY                                 0\n",
      "STATE                                0\n",
      "STATE_CODE                           0\n",
      "PROPERTY_TYPE                        0\n",
      "PROPERTY_TYPE_ID                     0\n",
      "MEDIAN_SALE_PRICE                    0\n",
      "MEDIAN_SALE_PRICE_MOM             2728\n",
      "MEDIAN_SALE_PRICE_YOY             2695\n",
      "MEDIAN_LIST_PRICE                 2260\n",
      "MEDIAN_LIST_PRICE_MOM             4296\n",
      "MEDIAN_LIST_PRICE_YOY             4383\n",
      "MEDIAN_PPSF                        171\n",
      "MEDIAN_PPSF_MOM                   2880\n",
      "MEDIAN_PPSF_YOY                   2846\n",
      "MEDIAN_LIST_PPSF                  2261\n",
      "MEDIAN_LIST_PPSF_MOM              4297\n",
      "MEDIAN_LIST_PPSF_YOY              4385\n",
      "HOMES_SOLD                           0\n",
      "HOMES_SOLD_MOM                    2728\n",
      "HOMES_SOLD_YOY                    2695\n",
      "PENDING_SALES                     1721\n",
      "PENDING_SALES_MOM                 3893\n",
      "PENDING_SALES_YOY                 4038\n",
      "NEW_LISTINGS                      2258\n",
      "NEW_LISTINGS_MOM                  4296\n",
      "NEW_LISTINGS_YOY                  4379\n",
      "INVENTORY                         1243\n",
      "INVENTORY_MOM                     3395\n",
      "INVENTORY_YOY                     3493\n",
      "MONTHS_OF_SUPPLY                  1243\n",
      "MONTHS_OF_SUPPLY_MOM              3395\n",
      "MONTHS_OF_SUPPLY_YOY              3493\n",
      "MEDIAN_DOM                         109\n",
      "MEDIAN_DOM_MOM                    2849\n",
      "MEDIAN_DOM_YOY                    2822\n",
      "AVG_SALE_TO_LIST                     1\n",
      "AVG_SALE_TO_LIST_MOM              2728\n",
      "AVG_SALE_TO_LIST_YOY              2696\n",
      "SOLD_ABOVE_LIST                      0\n",
      "SOLD_ABOVE_LIST_MOM               2728\n",
      "SOLD_ABOVE_LIST_YOY               2695\n",
      "PRICE_DROPS                       5148\n",
      "PRICE_DROPS_MOM                   7498\n",
      "PRICE_DROPS_YOY                   7691\n",
      "OFF_MARKET_IN_TWO_WEEKS           1721\n",
      "OFF_MARKET_IN_TWO_WEEKS_MOM       3893\n",
      "OFF_MARKET_IN_TWO_WEEKS_YOY       4038\n",
      "PARENT_METRO_REGION                  0\n",
      "PARENT_METRO_REGION_METRO_CODE       0\n",
      "LAST_UPDATED                         0\n",
      "dtype: int64\n"
     ]
    }
   ],
   "source": [
    "print(df_san_diego.isnull().sum())"
   ]
  },
  {
   "cell_type": "code",
   "execution_count": null,
   "id": "7e489872-c374-4f31-8eb3-36856e98afd3",
   "metadata": {},
   "outputs": [],
   "source": []
  }
 ],
 "metadata": {
  "kernelspec": {
   "display_name": "Python 3 (ipykernel)",
   "language": "python",
   "name": "python3"
  },
  "language_info": {
   "codemirror_mode": {
    "name": "ipython",
    "version": 3
   },
   "file_extension": ".py",
   "mimetype": "text/x-python",
   "name": "python",
   "nbconvert_exporter": "python",
   "pygments_lexer": "ipython3",
   "version": "3.12.7"
  }
 },
 "nbformat": 4,
 "nbformat_minor": 5
}
