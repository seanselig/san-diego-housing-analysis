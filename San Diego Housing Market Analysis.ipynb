{
 "cells": [
  {
   "cell_type": "code",
   "execution_count": 14,
   "id": "ef3b814b-a46e-44d7-b291-e475996e92f2",
   "metadata": {},
   "outputs": [],
   "source": [
    "import pandas as pd"
   ]
  },
  {
   "cell_type": "code",
   "execution_count": 15,
   "id": "236f7511-6b34-4965-9e99-783ae79b1350",
   "metadata": {},
   "outputs": [],
   "source": [
    "import matplotlib.pyplot as plt"
   ]
  },
  {
   "cell_type": "code",
   "execution_count": 16,
   "id": "1417bd8d-a86a-4300-adac-23138dd32400",
   "metadata": {},
   "outputs": [],
   "source": [
    "import seaborn as sns"
   ]
  },
  {
   "cell_type": "markdown",
   "id": "a2b92752-86b3-4c97-a952-9199d64f72d8",
   "metadata": {},
   "source": [
    "Setting Style:"
   ]
  },
  {
   "cell_type": "code",
   "execution_count": 17,
   "id": "21590c2a-90ae-4b55-ab03-07797f4a4fed",
   "metadata": {},
   "outputs": [],
   "source": [
    "sns.set_style(\"whitegrid\")\n",
    "plt.rcParams['figure.figsize'] = (10, 6)\n",
    "plt.rcParams['font.sans-serif'] = ['Arial']"
   ]
  },
  {
   "cell_type": "markdown",
   "id": "5c6aab1c-7bb6-4b06-9bac-8c1c6c092856",
   "metadata": {},
   "source": [
    "Initial Data Loading and Inspection:"
   ]
  },
  {
   "cell_type": "code",
   "execution_count": 20,
   "id": "371a2f3f-9c09-4e8c-9a0c-da19676fa432",
   "metadata": {},
   "outputs": [],
   "source": [
    "df_housing = pd.read_csv('city_market_tracker.tsv', sep='\\t')"
   ]
  },
  {
   "cell_type": "code",
   "execution_count": 21,
   "id": "bf099450-42b9-46db-b83b-18b1693132c4",
   "metadata": {},
   "outputs": [
    {
     "name": "stdout",
     "output_type": "stream",
     "text": [
      "  PERIOD_BEGIN  PERIOD_END  PERIOD_DURATION REGION_TYPE  REGION_TYPE_ID  \\\n",
      "0   2015-10-01  2015-10-31               30       place               6   \n",
      "1   2014-04-01  2014-04-30               30       place               6   \n",
      "2   2017-10-01  2017-10-31               30       place               6   \n",
      "3   2024-07-01  2024-07-31               30       place               6   \n",
      "4   2022-01-01  2022-01-31               30       place               6   \n",
      "\n",
      "   TABLE_ID  IS_SEASONALLY_ADJUSTED            REGION          CITY  \\\n",
      "0      8591                   False  Indian Trail, NC  Indian Trail   \n",
      "1      8225                   False   Hainesville, IL   Hainesville   \n",
      "2     10716                   False     Maysville, NC     Maysville   \n",
      "3      3140                   False      Chewelah, WA      Chewelah   \n",
      "4     11322                   False       Lombard, IL       Lombard   \n",
      "\n",
      "            STATE  ... SOLD_ABOVE_LIST_YOY PRICE_DROPS  PRICE_DROPS_MOM  \\\n",
      "0  North Carolina  ...            0.038406    0.224066        -0.011228   \n",
      "1        Illinois  ...            0.500000    0.333333         0.166667   \n",
      "2  North Carolina  ...            0.500000         NaN              NaN   \n",
      "3      Washington  ...            0.000000    0.250000        -0.057692   \n",
      "4        Illinois  ...           -0.018092    0.134615        -0.028175   \n",
      "\n",
      "   PRICE_DROPS_YOY  OFF_MARKET_IN_TWO_WEEKS  OFF_MARKET_IN_TWO_WEEKS_MOM  \\\n",
      "0         0.023309                 0.291667                    -0.084804   \n",
      "1              NaN                      NaN                          NaN   \n",
      "2              NaN                 0.000000                     0.000000   \n",
      "3        -0.659091                 0.500000                    -0.166667   \n",
      "4        -0.280019                 0.241379                    -0.175287   \n",
      "\n",
      "   OFF_MARKET_IN_TWO_WEEKS_YOY  PARENT_METRO_REGION  \\\n",
      "0                     0.034524        Charlotte, NC   \n",
      "1                          NaN      Lake County, IL   \n",
      "2                     0.000000         New Bern, NC   \n",
      "3                     0.277778          Spokane, WA   \n",
      "4                    -0.136398          Chicago, IL   \n",
      "\n",
      "   PARENT_METRO_REGION_METRO_CODE               LAST_UPDATED  \n",
      "0                           16740  2025-04-18 14:40:47.550 Z  \n",
      "1                           29404  2025-04-18 14:40:47.550 Z  \n",
      "2                           35100  2025-04-18 14:40:47.550 Z  \n",
      "3                           44060  2025-04-18 14:40:47.550 Z  \n",
      "4                           16984  2025-04-18 14:40:47.550 Z  \n",
      "\n",
      "[5 rows x 58 columns]\n"
     ]
    }
   ],
   "source": [
    "print(df_housing.head())"
   ]
  },
  {
   "cell_type": "code",
   "execution_count": 22,
   "id": "95426d34-1cc6-40f8-a1e6-81a5531cd0c9",
   "metadata": {},
   "outputs": [
    {
     "name": "stdout",
     "output_type": "stream",
     "text": [
      "<class 'pandas.core.frame.DataFrame'>\n",
      "RangeIndex: 5818731 entries, 0 to 5818730\n",
      "Data columns (total 58 columns):\n",
      " #   Column                          Dtype  \n",
      "---  ------                          -----  \n",
      " 0   PERIOD_BEGIN                    object \n",
      " 1   PERIOD_END                      object \n",
      " 2   PERIOD_DURATION                 int64  \n",
      " 3   REGION_TYPE                     object \n",
      " 4   REGION_TYPE_ID                  int64  \n",
      " 5   TABLE_ID                        int64  \n",
      " 6   IS_SEASONALLY_ADJUSTED          bool   \n",
      " 7   REGION                          object \n",
      " 8   CITY                            object \n",
      " 9   STATE                           object \n",
      " 10  STATE_CODE                      object \n",
      " 11  PROPERTY_TYPE                   object \n",
      " 12  PROPERTY_TYPE_ID                int64  \n",
      " 13  MEDIAN_SALE_PRICE               float64\n",
      " 14  MEDIAN_SALE_PRICE_MOM           float64\n",
      " 15  MEDIAN_SALE_PRICE_YOY           float64\n",
      " 16  MEDIAN_LIST_PRICE               float64\n",
      " 17  MEDIAN_LIST_PRICE_MOM           float64\n",
      " 18  MEDIAN_LIST_PRICE_YOY           float64\n",
      " 19  MEDIAN_PPSF                     float64\n",
      " 20  MEDIAN_PPSF_MOM                 float64\n",
      " 21  MEDIAN_PPSF_YOY                 float64\n",
      " 22  MEDIAN_LIST_PPSF                float64\n",
      " 23  MEDIAN_LIST_PPSF_MOM            float64\n",
      " 24  MEDIAN_LIST_PPSF_YOY            float64\n",
      " 25  HOMES_SOLD                      float64\n",
      " 26  HOMES_SOLD_MOM                  float64\n",
      " 27  HOMES_SOLD_YOY                  float64\n",
      " 28  PENDING_SALES                   float64\n",
      " 29  PENDING_SALES_MOM               float64\n",
      " 30  PENDING_SALES_YOY               float64\n",
      " 31  NEW_LISTINGS                    float64\n",
      " 32  NEW_LISTINGS_MOM                float64\n",
      " 33  NEW_LISTINGS_YOY                float64\n",
      " 34  INVENTORY                       float64\n",
      " 35  INVENTORY_MOM                   float64\n",
      " 36  INVENTORY_YOY                   float64\n",
      " 37  MONTHS_OF_SUPPLY                float64\n",
      " 38  MONTHS_OF_SUPPLY_MOM            float64\n",
      " 39  MONTHS_OF_SUPPLY_YOY            float64\n",
      " 40  MEDIAN_DOM                      float64\n",
      " 41  MEDIAN_DOM_MOM                  float64\n",
      " 42  MEDIAN_DOM_YOY                  float64\n",
      " 43  AVG_SALE_TO_LIST                float64\n",
      " 44  AVG_SALE_TO_LIST_MOM            float64\n",
      " 45  AVG_SALE_TO_LIST_YOY            float64\n",
      " 46  SOLD_ABOVE_LIST                 float64\n",
      " 47  SOLD_ABOVE_LIST_MOM             float64\n",
      " 48  SOLD_ABOVE_LIST_YOY             float64\n",
      " 49  PRICE_DROPS                     float64\n",
      " 50  PRICE_DROPS_MOM                 float64\n",
      " 51  PRICE_DROPS_YOY                 float64\n",
      " 52  OFF_MARKET_IN_TWO_WEEKS         float64\n",
      " 53  OFF_MARKET_IN_TWO_WEEKS_MOM     float64\n",
      " 54  OFF_MARKET_IN_TWO_WEEKS_YOY     float64\n",
      " 55  PARENT_METRO_REGION             object \n",
      " 56  PARENT_METRO_REGION_METRO_CODE  int64  \n",
      " 57  LAST_UPDATED                    object \n",
      "dtypes: bool(1), float64(42), int64(5), object(10)\n",
      "memory usage: 2.5+ GB\n",
      "None\n"
     ]
    }
   ],
   "source": [
    "print(df_housing.info())"
   ]
  },
  {
   "cell_type": "markdown",
   "id": "287e9f1a-a5a1-4b06-9e1c-6e7f36d77849",
   "metadata": {},
   "source": [
    "Looking for missing values:"
   ]
  },
  {
   "cell_type": "code",
   "execution_count": 23,
   "id": "4b2e048e-4efe-459a-89b9-f8e6d28bb8fa",
   "metadata": {},
   "outputs": [
    {
     "name": "stdout",
     "output_type": "stream",
     "text": [
      "PERIOD_BEGIN                            0\n",
      "PERIOD_END                              0\n",
      "PERIOD_DURATION                         0\n",
      "REGION_TYPE                             0\n",
      "REGION_TYPE_ID                          0\n",
      "TABLE_ID                                0\n",
      "IS_SEASONALLY_ADJUSTED                  0\n",
      "REGION                                  0\n",
      "CITY                                    0\n",
      "STATE                                   0\n",
      "STATE_CODE                              0\n",
      "PROPERTY_TYPE                           0\n",
      "PROPERTY_TYPE_ID                        0\n",
      "MEDIAN_SALE_PRICE                    6582\n",
      "MEDIAN_SALE_PRICE_MOM             1102021\n",
      "MEDIAN_SALE_PRICE_YOY             1203523\n",
      "MEDIAN_LIST_PRICE                  960301\n",
      "MEDIAN_LIST_PRICE_MOM             1738535\n",
      "MEDIAN_LIST_PRICE_YOY             1844692\n",
      "MEDIAN_PPSF                         78734\n",
      "MEDIAN_PPSF_MOM                   1164124\n",
      "MEDIAN_PPSF_YOY                   1266240\n",
      "MEDIAN_LIST_PPSF                   982804\n",
      "MEDIAN_LIST_PPSF_MOM              1760913\n",
      "MEDIAN_LIST_PPSF_YOY              1867600\n",
      "HOMES_SOLD                           6132\n",
      "HOMES_SOLD_MOM                    1101609\n",
      "HOMES_SOLD_YOY                    1203086\n",
      "PENDING_SALES                      605879\n",
      "PENDING_SALES_MOM                 1523746\n",
      "PENDING_SALES_YOY                 1646817\n",
      "NEW_LISTINGS                       980661\n",
      "NEW_LISTINGS_MOM                  1756710\n",
      "NEW_LISTINGS_YOY                  1866894\n",
      "INVENTORY                          470919\n",
      "INVENTORY_MOM                     1328624\n",
      "INVENTORY_YOY                     1473224\n",
      "MONTHS_OF_SUPPLY                   390459\n",
      "MONTHS_OF_SUPPLY_MOM              1262066\n",
      "MONTHS_OF_SUPPLY_YOY              1397808\n",
      "MEDIAN_DOM                          73515\n",
      "MEDIAN_DOM_MOM                    1166784\n",
      "MEDIAN_DOM_YOY                    1272591\n",
      "AVG_SALE_TO_LIST                   203820\n",
      "AVG_SALE_TO_LIST_MOM              1255062\n",
      "AVG_SALE_TO_LIST_YOY              1350730\n",
      "SOLD_ABOVE_LIST                     39180\n",
      "SOLD_ABOVE_LIST_MOM               1127888\n",
      "SOLD_ABOVE_LIST_YOY               1229737\n",
      "PRICE_DROPS                       2722159\n",
      "PRICE_DROPS_MOM                   3260419\n",
      "PRICE_DROPS_YOY                   3487341\n",
      "OFF_MARKET_IN_TWO_WEEKS            483681\n",
      "OFF_MARKET_IN_TWO_WEEKS_MOM       1419771\n",
      "OFF_MARKET_IN_TWO_WEEKS_YOY       1550033\n",
      "PARENT_METRO_REGION                     0\n",
      "PARENT_METRO_REGION_METRO_CODE          0\n",
      "LAST_UPDATED                            0\n",
      "dtype: int64\n"
     ]
    }
   ],
   "source": [
    "print(df_housing.isnull().sum())"
   ]
  },
  {
   "cell_type": "markdown",
   "id": "75e16e5f-85a1-4479-a86d-ec509d05039f",
   "metadata": {},
   "source": [
    "Converting to lowercase string for easier filtering:"
   ]
  },
  {
   "cell_type": "code",
   "execution_count": 24,
   "id": "046b38ea-8906-4928-b938-49567d997f3b",
   "metadata": {},
   "outputs": [],
   "source": [
    "df_housing['PARENT_METRO_REGION'] = df_housing['PARENT_METRO_REGION'].astype(str).str.lower()"
   ]
  },
  {
   "cell_type": "code",
   "execution_count": 25,
   "id": "29ae95a5-bbe1-45cf-ba30-789436d38245",
   "metadata": {},
   "outputs": [],
   "source": [
    "df_housing['STATE'] = df_housing['STATE'].astype(str).str.lower()"
   ]
  },
  {
   "cell_type": "markdown",
   "id": "c493d8f9-42a6-4869-ab21-7b5a794afe58",
   "metadata": {},
   "source": [
    "Filtering Dataset for San Diego only:"
   ]
  },
  {
   "cell_type": "code",
   "execution_count": 30,
   "id": "2724574c-9104-4dc8-96ce-7498f70ec652",
   "metadata": {
    "scrolled": true
   },
   "outputs": [],
   "source": [
    "df_san_diego = df_housing[(df_housing['PARENT_METRO_REGION'] == 'san diego, ca') & (df_housing['STATE'] == 'california')].copy()"
   ]
  },
  {
   "cell_type": "markdown",
   "id": "34516b4c-632d-4b6e-bff1-565236ec1a03",
   "metadata": {},
   "source": [
    "Looking for missing values in the San Diego filtered data:"
   ]
  },
  {
   "cell_type": "code",
   "execution_count": 31,
   "id": "df248c99-9816-42ac-a4aa-bffc75e80947",
   "metadata": {},
   "outputs": [
    {
     "name": "stdout",
     "output_type": "stream",
     "text": [
      "PERIOD_BEGIN                         0\n",
      "PERIOD_END                           0\n",
      "PERIOD_DURATION                      0\n",
      "REGION_TYPE                          0\n",
      "REGION_TYPE_ID                       0\n",
      "TABLE_ID                             0\n",
      "IS_SEASONALLY_ADJUSTED               0\n",
      "REGION                               0\n",
      "CITY                                 0\n",
      "STATE                                0\n",
      "STATE_CODE                           0\n",
      "PROPERTY_TYPE                        0\n",
      "PROPERTY_TYPE_ID                     0\n",
      "MEDIAN_SALE_PRICE                    0\n",
      "MEDIAN_SALE_PRICE_MOM             2728\n",
      "MEDIAN_SALE_PRICE_YOY             2695\n",
      "MEDIAN_LIST_PRICE                 2260\n",
      "MEDIAN_LIST_PRICE_MOM             4296\n",
      "MEDIAN_LIST_PRICE_YOY             4383\n",
      "MEDIAN_PPSF                        171\n",
      "MEDIAN_PPSF_MOM                   2880\n",
      "MEDIAN_PPSF_YOY                   2846\n",
      "MEDIAN_LIST_PPSF                  2261\n",
      "MEDIAN_LIST_PPSF_MOM              4297\n",
      "MEDIAN_LIST_PPSF_YOY              4385\n",
      "HOMES_SOLD                           0\n",
      "HOMES_SOLD_MOM                    2728\n",
      "HOMES_SOLD_YOY                    2695\n",
      "PENDING_SALES                     1721\n",
      "PENDING_SALES_MOM                 3893\n",
      "PENDING_SALES_YOY                 4038\n",
      "NEW_LISTINGS                      2258\n",
      "NEW_LISTINGS_MOM                  4296\n",
      "NEW_LISTINGS_YOY                  4379\n",
      "INVENTORY                         1243\n",
      "INVENTORY_MOM                     3395\n",
      "INVENTORY_YOY                     3493\n",
      "MONTHS_OF_SUPPLY                  1243\n",
      "MONTHS_OF_SUPPLY_MOM              3395\n",
      "MONTHS_OF_SUPPLY_YOY              3493\n",
      "MEDIAN_DOM                         109\n",
      "MEDIAN_DOM_MOM                    2849\n",
      "MEDIAN_DOM_YOY                    2822\n",
      "AVG_SALE_TO_LIST                     1\n",
      "AVG_SALE_TO_LIST_MOM              2728\n",
      "AVG_SALE_TO_LIST_YOY              2696\n",
      "SOLD_ABOVE_LIST                      0\n",
      "SOLD_ABOVE_LIST_MOM               2728\n",
      "SOLD_ABOVE_LIST_YOY               2695\n",
      "PRICE_DROPS                       5148\n",
      "PRICE_DROPS_MOM                   7498\n",
      "PRICE_DROPS_YOY                   7691\n",
      "OFF_MARKET_IN_TWO_WEEKS           1721\n",
      "OFF_MARKET_IN_TWO_WEEKS_MOM       3893\n",
      "OFF_MARKET_IN_TWO_WEEKS_YOY       4038\n",
      "PARENT_METRO_REGION                  0\n",
      "PARENT_METRO_REGION_METRO_CODE       0\n",
      "LAST_UPDATED                         0\n",
      "dtype: int64\n"
     ]
    }
   ],
   "source": [
    "print(df_san_diego.isnull().sum())"
   ]
  },
  {
   "cell_type": "markdown",
   "id": "1e6dcb61-c432-4fce-8e21-977acbe14c47",
   "metadata": {},
   "source": [
    "Converting date columns to datetime objects:"
   ]
  },
  {
   "cell_type": "code",
   "execution_count": 32,
   "id": "95e491dd-c452-4721-972a-84834941057f",
   "metadata": {},
   "outputs": [],
   "source": [
    "df_san_diego['PERIOD_BEGIN'] = pd.to_datetime(df_san_diego['PERIOD_BEGIN'])"
   ]
  },
  {
   "cell_type": "code",
   "execution_count": 33,
   "id": "b3d5c523-b933-4f1b-ae6a-f391c56425a7",
   "metadata": {},
   "outputs": [],
   "source": [
    "df_san_diego['PERIOD_END'] = pd.to_datetime(df_san_diego['PERIOD_END'])"
   ]
  },
  {
   "cell_type": "code",
   "execution_count": 34,
   "id": "3441f64a-25b6-4fdd-8798-3ed29dfb29d4",
   "metadata": {},
   "outputs": [],
   "source": [
    "df_san_diego['date'] = df_san_diego['PERIOD_END']"
   ]
  },
  {
   "cell_type": "markdown",
   "id": "8dafbde5-1d79-4a36-b2f2-a1ed5b6c6632",
   "metadata": {},
   "source": [
    "Sorting the dataframe by Property Type and the date to prep for forward filling:"
   ]
  },
  {
   "cell_type": "code",
   "execution_count": 35,
   "id": "9863aaa8-e8f3-4067-b7b5-385bf9ca44fe",
   "metadata": {},
   "outputs": [],
   "source": [
    "df_san_diego = df_san_diego.sort_values(by=['PROPERTY_TYPE', 'date']).copy()"
   ]
  },
  {
   "cell_type": "markdown",
   "id": "80b054a4-e3df-467c-a57d-59159163a673",
   "metadata": {},
   "source": [
    "Defining columns that will be used:"
   ]
  },
  {
   "cell_type": "code",
   "execution_count": 36,
   "id": "3ac3b629-6c1b-4edd-bfd0-1dc0502d9fe2",
   "metadata": {},
   "outputs": [],
   "source": [
    "columns_to_impute = [\n",
    "    'MEDIAN_SALE_PRICE',\n",
    "    'MEDIAN_SALE_PRICE_MOM',\n",
    "    'MEDIAN_SALE_PRICE_YOY',\n",
    "    'MEDIAN_LIST_PRICE',\n",
    "    'MEDIAN_LIST_PRICE_MOM',\n",
    "    'MEDIAN_LIST_PRICE_YOY',\n",
    "    'MEDIAN_PPSF',\n",
    "    'MEDIAN_PPSF_MOM',\n",
    "    'MEDIAN_PPSF_YOY',\n",
    "    'MEDIAN_LIST_PPSF',\n",
    "    'MEDIAN_LIST_PPSF_MOM',\n",
    "    'MEDIAN_LIST_PPSF_YOY',\n",
    "    'HOMES_SOLD',\n",
    "    'HOMES_SOLD_MOM',\n",
    "    'HOMES_SOLD_YOY',\n",
    "    'PENDING_SALES',\n",
    "    'PENDING_SALES_MOM',\n",
    "    'PENDING_SALES_YOY',\n",
    "    'NEW_LISTINGS',\n",
    "    'NEW_LISTINGS_MOM',\n",
    "    'NEW_LISTINGS_YOY',\n",
    "    'INVENTORY',\n",
    "    'INVENTORY_MOM',\n",
    "    'INVENTORY_YOY',\n",
    "    'MONTHS_OF_SUPPLY',\n",
    "    'MONTHS_OF_SUPPLY_MOM',\n",
    "    'MONTHS_OF_SUPPLY_YOY',\n",
    "    'MEDIAN_DOM',\n",
    "    'MEDIAN_DOM_MOM',\n",
    "    'MEDIAN_DOM_YOY',\n",
    "    'AVG_SALE_TO_LIST',\n",
    "    'AVG_SALE_TO_LIST_MOM',\n",
    "    'AVG_SALE_TO_LIST_YOY',\n",
    "    'SOLD_ABOVE_LIST',\n",
    "    'SOLD_ABOVE_LIST_MOM',\n",
    "    'SOLD_ABOVE_LIST_YOY',\n",
    "    'PRICE_DROPS',\n",
    "    'PRICE_DROPS_MOM',\n",
    "    'PRICE_DROPS_YOY',\n",
    "    'OFF_MARKET_IN_TWO_WEEKS',\n",
    "    'OFF_MARKET_IN_TWO_WEEKS_MOM',\n",
    "    'OFF_MARKET_IN_TWO_WEEKS_YOY'\n",
    "]"
   ]
  },
  {
   "cell_type": "code",
   "execution_count": 37,
   "id": "d478d458-f1ad-4b47-8d8a-179e0502402b",
   "metadata": {},
   "outputs": [],
   "source": [
    "for col in columns_to_impute:\n",
    "    df_san_diego[col] = df_san_diego.groupby('PROPERTY_TYPE')[col].ffill()\n",
    "    df_san_diego[col] = df_san_diego[col].fillna(df_san_diego[col].median())"
   ]
  },
  {
   "cell_type": "markdown",
   "id": "eafe7c4a-3056-46bd-aebc-b8f9cfb953b8",
   "metadata": {},
   "source": [
    "Feature engineering (year, month, quarter):"
   ]
  },
  {
   "cell_type": "code",
   "execution_count": 38,
   "id": "27c267e0-2d5f-4086-993c-2f2894245e89",
   "metadata": {},
   "outputs": [],
   "source": [
    "df_san_diego['year'] = df_san_diego['date'].dt.year"
   ]
  },
  {
   "cell_type": "code",
   "execution_count": 39,
   "id": "740a300f-e16f-4533-8d89-aaebf78ef8f2",
   "metadata": {},
   "outputs": [],
   "source": [
    "df_san_diego['month'] = df_san_diego['date'].dt.month"
   ]
  },
  {
   "cell_type": "code",
   "execution_count": 40,
   "id": "72c56051-874d-4612-ba1f-10dd155814f6",
   "metadata": {},
   "outputs": [],
   "source": [
    "df_san_diego['quarter'] = df_san_diego['date'].dt.quarter"
   ]
  },
  {
   "cell_type": "markdown",
   "id": "fc62273b-e60f-4e07-b1b9-aeb4c0044d91",
   "metadata": {},
   "source": [
    "Looking for missing values after above cleaning:"
   ]
  },
  {
   "cell_type": "code",
   "execution_count": 41,
   "id": "4d50896a-d4b8-432d-a506-175144e77533",
   "metadata": {},
   "outputs": [
    {
     "name": "stdout",
     "output_type": "stream",
     "text": [
      "PERIOD_BEGIN       0\n",
      "PERIOD_END         0\n",
      "PERIOD_DURATION    0\n",
      "REGION_TYPE        0\n",
      "REGION_TYPE_ID     0\n",
      "                  ..\n",
      "LAST_UPDATED       0\n",
      "date               0\n",
      "year               0\n",
      "month              0\n",
      "quarter            0\n",
      "Length: 62, dtype: int64\n"
     ]
    }
   ],
   "source": [
    "print(df_san_diego.isnull().sum())"
   ]
  },
  {
   "cell_type": "markdown",
   "id": "fcbb4565-18ab-4432-9c05-14ac39df7375",
   "metadata": {},
   "source": [
    "Investigating question 1:"
   ]
  },
  {
   "cell_type": "markdown",
   "id": "1ee5cf28-689c-4a11-be58-3ea06c9ad4fa",
   "metadata": {},
   "source": [
    "# --- 1. Analysis by Property Type: Price per Square Foot and Days on Market ---"
   ]
  },
  {
   "cell_type": "markdown",
   "id": "8b9090b8-d332-4016-9d61-b1dc0af3a595",
   "metadata": {},
   "source": [
    "Looking for unique property types:"
   ]
  },
  {
   "cell_type": "code",
   "execution_count": 42,
   "id": "fb2c3ec9-da81-4552-9c3c-98d7e72ff919",
   "metadata": {},
   "outputs": [],
   "source": [
    "unique_property_types = df_san_diego['PROPERTY_TYPE'].unique()"
   ]
  },
  {
   "cell_type": "code",
   "execution_count": 43,
   "id": "c277ce9b-117e-4951-9cb1-c6a4d6b7321b",
   "metadata": {},
   "outputs": [
    {
     "name": "stdout",
     "output_type": "stream",
     "text": [
      "['All Residential' 'Condo/Co-op' 'Multi-Family (2-4 Unit)'\n",
      " 'Single Family Residential' 'Townhouse']\n"
     ]
    }
   ],
   "source": [
    "print(unique_property_types)"
   ]
  },
  {
   "cell_type": "markdown",
   "id": "97cecc01-a5e8-4216-9cfa-766eabaf3dd8",
   "metadata": {},
   "source": [
    "Calculating average of the price per square foot and days on the market for each property type:"
   ]
  },
  {
   "cell_type": "code",
   "execution_count": 45,
   "id": "f7dfcdcf-e84e-4866-9c3c-703df7eccec5",
   "metadata": {},
   "outputs": [],
   "source": [
    "property_type_summary = df_san_diego.groupby('PROPERTY_TYPE').agg(Average_Median_PPSF=('MEDIAN_PPSF', 'mean'), Average_Median_DOM=('MEDIAN_DOM', 'mean')).reset_index()"
   ]
  },
  {
   "cell_type": "markdown",
   "id": "5f474c0c-79e4-469b-a204-49c3cead59cf",
   "metadata": {},
   "source": [
    "Sorting the summary created above bs average PPSF in descending order (to help in visulization):"
   ]
  },
  {
   "cell_type": "code",
   "execution_count": 46,
   "id": "b1c8efac-48ee-49c0-8601-c5a8eb9a094b",
   "metadata": {},
   "outputs": [],
   "source": [
    "property_type_summary = property_type_summary.sort_values(by='Average_Median_PPSF', ascending=False)"
   ]
  },
  {
   "cell_type": "markdown",
   "id": "ed7f112b-a5cc-48c2-ad4a-18819bffa43f",
   "metadata": {},
   "source": [
    "Printing the property type summary to view key metrics:"
   ]
  },
  {
   "cell_type": "code",
   "execution_count": 47,
   "id": "3415af69-39b9-4655-8eab-e5baaab44c16",
   "metadata": {},
   "outputs": [
    {
     "name": "stdout",
     "output_type": "stream",
     "text": [
      "               PROPERTY_TYPE  Average_Median_PPSF  Average_Median_DOM\n",
      "2    Multi-Family (2-4 Unit)          1570.055096           64.603331\n",
      "4                  Townhouse           398.742132           36.249010\n",
      "3  Single Family Residential           396.425802           48.876628\n",
      "1                Condo/Co-op           390.869439           40.936263\n",
      "0            All Residential           382.524920           46.488036\n"
     ]
    }
   ],
   "source": [
    "print(property_type_summary)"
   ]
  },
  {
   "cell_type": "markdown",
   "id": "0852ce41-663e-4064-b8ca-de2319b6eb20",
   "metadata": {},
   "source": [
    "NOTE: Multi-Family is clearly scewed - not going to include in my analysis."
   ]
  },
  {
   "cell_type": "code",
   "execution_count": 48,
   "id": "103524e0-bcbe-4f48-a89f-e3a983c3130d",
   "metadata": {},
   "outputs": [],
   "source": [
    "property_type_summary = df_san_diego[df_san_diego['PROPERTY_TYPE'] != 'Multi-Family (2-4 Unit)'].groupby('PROPERTY_TYPE').agg(Average_Median_PPSF=('MEDIAN_PPSF', 'mean'), Average_Median_DOM=('MEDIAN_DOM', 'mean')).reset_index()"
   ]
  },
  {
   "cell_type": "markdown",
   "id": "2d6a3e4d-046d-4e62-b7d8-4cf30901691e",
   "metadata": {},
   "source": [
    "Resorting after exluding multi-family:"
   ]
  },
  {
   "cell_type": "code",
   "execution_count": 50,
   "id": "03533341-3e09-475d-8778-56d50c1b4b57",
   "metadata": {},
   "outputs": [],
   "source": [
    "property_type_summary = df_san_diego[df_san_diego['PROPERTY_TYPE'] != 'Multi-Family (2-4 Unit)'].groupby('PROPERTY_TYPE').agg(\n",
    "    Average_Median_PPSF=('MEDIAN_PPSF', 'mean'),\n",
    "    Average_Median_DOM=('MEDIAN_DOM', 'mean')\n",
    ").reset_index()"
   ]
  },
  {
   "cell_type": "code",
   "execution_count": 51,
   "id": "61b5776a-b18d-4080-af91-2b7268891c08",
   "metadata": {},
   "outputs": [],
   "source": [
    "property_type_summary_ppsf = property_type_summary.sort_values(by='Average_Median_PPSF', ascending=False)"
   ]
  },
  {
   "cell_type": "code",
   "execution_count": 52,
   "id": "e8bb66fe-8edd-4b90-8a3b-2f2774167eb2",
   "metadata": {},
   "outputs": [
    {
     "name": "stdout",
     "output_type": "stream",
     "text": [
      "               PROPERTY_TYPE  Average_Median_PPSF  Average_Median_DOM\n",
      "3                  Townhouse           398.742132           36.249010\n",
      "2  Single Family Residential           396.425802           48.876628\n",
      "1                Condo/Co-op           390.869439           40.936263\n",
      "0            All Residential           382.524920           46.488036\n"
     ]
    }
   ],
   "source": [
    "print(property_type_summary_ppsf)"
   ]
  },
  {
   "cell_type": "markdown",
   "id": "f84d8be7-3899-404e-8b4b-146a74a8ab31",
   "metadata": {},
   "source": [
    "Creating visualization for Average Median Price Per Square Foot by Property Type:"
   ]
  },
  {
   "cell_type": "code",
   "execution_count": 55,
   "id": "6c219b33-245f-4201-9267-0f50cafe0731",
   "metadata": {},
   "outputs": [
    {
     "name": "stderr",
     "output_type": "stream",
     "text": [
      "C:\\Users\\sselig\\AppData\\Local\\Temp\\ipykernel_21472\\3105724150.py:2: FutureWarning: \n",
      "\n",
      "Passing `palette` without assigning `hue` is deprecated and will be removed in v0.14.0. Assign the `y` variable to `hue` and set `legend=False` for the same effect.\n",
      "\n",
      "  sns.barplot(x='Average_Median_PPSF', y='PROPERTY_TYPE', data=property_type_summary_ppsf, palette='viridis', edgecolor='black', linewidth=1)\n"
     ]
    },
    {
     "data": {
      "image/png": "[encoded data removed]",
      "text/plain": [
       "<Figure size 1200x700 with 1 Axes>"
      ]
     },
     "metadata": {},
     "output_type": "display_data"
    }
   ],
   "source": [
    "plt.figure(figsize=(12, 7))\n",
    "sns.barplot(x='Average_Median_PPSF', y='PROPERTY_TYPE', data=property_type_summary_ppsf, palette='viridis', edgecolor='black', linewidth=1)\n",
    "plt.xlabel('Average Median Price Per Square Foot ($)', fontsize=12)\n",
    "plt.ylabel('Property Type', fontsize=12)\n",
    "plt.title('San Diego: Average Median Price Per Square Foot by Property Type (Excluding Multi-Family)', fontsize=14)\n",
    "plt.xticks(rotation=45, ha='right', fontsize=10)\n",
    "plt.yticks(fontsize=10)\n",
    "plt.grid(axis='x', linestyle='--', alpha=0.7)\n",
    "plt.tight_layout()\n",
    "plt.show()"
   ]
  },
  {
   "cell_type": "markdown",
   "id": "82f8a683-6a80-49ad-ad62-372743e627dc",
   "metadata": {},
   "source": [
    "Sorting summary by average DOM and creating visualization for Average Median Days on Market by Property Type:"
   ]
  },
  {
   "cell_type": "code",
   "execution_count": 56,
   "id": "dd0cb4bf-0eea-4ab4-b000-6fff402dd80e",
   "metadata": {},
   "outputs": [],
   "source": [
    "property_type_summary_dom = property_type_summary.sort_values(by='Average_Median_DOM', ascending=True)"
   ]
  },
  {
   "cell_type": "code",
   "execution_count": 57,
   "id": "c11b25ad-e2fc-4edb-8768-16ae43213013",
   "metadata": {},
   "outputs": [
    {
     "name": "stderr",
     "output_type": "stream",
     "text": [
      "C:\\Users\\sselig\\AppData\\Local\\Temp\\ipykernel_21472\\621356976.py:2: FutureWarning: \n",
      "\n",
      "Passing `palette` without assigning `hue` is deprecated and will be removed in v0.14.0. Assign the `y` variable to `hue` and set `legend=False` for the same effect.\n",
      "\n",
      "  sns.barplot(x='Average_Median_DOM', y='PROPERTY_TYPE', data=property_type_summary_dom, palette='magma', edgecolor='black', linewidth=1)\n"
     ]
    },
    {
     "data": {
      "image/png": "[encoded data removed]",
      "text/plain": [
       "<Figure size 1200x700 with 1 Axes>"
      ]
     },
     "metadata": {},
     "output_type": "display_data"
    }
   ],
   "source": [
    "plt.figure(figsize=(12, 7))\n",
    "sns.barplot(x='Average_Median_DOM', y='PROPERTY_TYPE', data=property_type_summary_dom, palette='magma', edgecolor='black', linewidth=1)\n",
    "plt.xlabel('Average Median Days on Market', fontsize=12)\n",
    "plt.ylabel('Property Type', fontsize=12)\n",
    "plt.title('San Diego: Average Median Days on Market by Property Type (Excluding Multi-Family)', fontsize=14)\n",
    "plt.xticks(rotation=45, ha='right', fontsize=10)\n",
    "plt.yticks(fontsize=10)\n",
    "plt.grid(axis='x', linestyle='--', alpha=0.7)\n",
    "plt.tight_layout()\n",
    "plt.show()"
   ]
  },
  {
   "cell_type": "code",
   "execution_count": null,
   "id": "f426b206-e818-440e-80f1-03bc45ca2bde",
   "metadata": {},
   "outputs": [],
   "source": []
  }
 ],
 "metadata": {
  "kernelspec": {
   "display_name": "Python 3 (ipykernel)",
   "language": "python",
   "name": "python3"
  },
  "language_info": {
   "codemirror_mode": {
    "name": "ipython",
    "version": 3
   },
   "file_extension": ".py",
   "mimetype": "text/x-python",
   "name": "python",
   "nbconvert_exporter": "python",
   "pygments_lexer": "ipython3",
   "version": "3.12.7"
  }
 },
 "nbformat": 4,
 "nbformat_minor": 5
}
